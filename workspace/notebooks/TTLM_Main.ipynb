{
 "cells": [
  {
   "cell_type": "code",
   "execution_count": null,
   "id": "c7ed0c31",
   "metadata": {},
   "outputs": [],
   "source": [
    "%reload_ext autoreload\n",
    "%autoreload 2\n",
    "import matplotlib\n",
    "# matplotlib.use('gtk')\n",
    "%matplotlib"
   ]
  },
  {
   "cell_type": "code",
   "execution_count": null,
   "id": "e6cc373c",
   "metadata": {},
   "outputs": [],
   "source": [
    "from dynmlm.dslearn import nca_prepare_training\n",
    "from dynmlm.model import PertbM_TTDsBert, TwoTowerDsBert, TwoTowerELMo\n",
    "from dynmlm.datautil import *\n",
    "from ncautil.ncamath import *\n",
    "import numpy as np\n",
    "import copy\n",
    "import matplotlib.pyplot as plt\n",
    "import collections\n",
    "from tqdm import tqdm_notebook\n",
    "import time\n",
    "# use dynmlm2"
   ]
  },
  {
   "cell_type": "code",
   "execution_count": null,
   "id": "bc27aaf4",
   "metadata": {},
   "outputs": [],
   "source": [
    "# bert_config = TwoTowerDsBert.get_model_config(name=\"large_2tower\")\n",
    "partition_wiki_train = list(range(0, 121, 3))\n",
    "partition_book_train = list(range(0, 41, 3))\n",
    "l_per_epoch_train = 5000 # 5000 default\n",
    "l_per_epoch_val = 200 # 500 default\n",
    "\n",
    "config={\n",
    "    \"description\":\"Two tower bert for dual brain stream hypothesis\",\n",
    "    \"ds_config\": \"./ds_config/deepspeed_config_24hbert.json\",\n",
    "    \"dataset_type\":WikiBookDatasetBert,\n",
    "    \"model_type\":TwoTowerELMo,\n",
    "    \"pretrained_model\": \"./models/2TowerELMo/ttelmo_large_128_0_epoch9perp2.976.cuda:0_final_backup/ttelmo_large_128_0_epoch9perp2.976.cuda:0_final.model\",\n",
    "    \"window_size\": 128,\n",
    "    \"finetune\": True,\n",
    "    \"batch_size\": 128,\n",
    "    \"epoch\": 1,\n",
    "    \"lr_schedule_mode\": \"linear_decay\",\n",
    "    \"lr_linear_decay\": 1.0,\n",
    "    \"warm_up_steps\": 1000,\n",
    "    \"local_rank\": 0,\n",
    "    \"seed\": 39761,\n",
    "    \"train_phase\": \"phase1_mlm\",\n",
    "    \"data_train\":{\"mode\":\"train\",\"max_data_len\":l_per_epoch_train*128,\"partition_wiki\":partition_wiki_train,\n",
    "                  \"partition_book\":partition_book_train,\"window\":128},\n",
    "    \"data_val\":{\"mode\":\"val\",\"max_data_len\":l_per_epoch_val*128,\"partition_wiki\":list(range(121,133)),\"partition_book\":list(range(41,47)),\n",
    "                  \"window\":128},\n",
    "    \"check_point_path\":None\n",
    "}\n",
    "# config.update(bert_config)\n",
    "\n",
    "ptM = nca_prepare_training(config)\n",
    "\n",
    "ptM.do_eval(eval_mem_flag=True)"
   ]
  }
 ],
 "metadata": {
  "kernelspec": {
   "display_name": "Python [conda env:dynmlm] *",
   "language": "python",
   "name": "conda-env-dynmlm-py"
  },
  "language_info": {
   "codemirror_mode": {
    "name": "ipython",
    "version": 3
   },
   "file_extension": ".py",
   "mimetype": "text/x-python",
   "name": "python",
   "nbconvert_exporter": "python",
   "pygments_lexer": "ipython3",
   "version": "3.7.13"
  },
  "toc": {
   "base_numbering": 1,
   "nav_menu": {},
   "number_sections": true,
   "sideBar": true,
   "skip_h1_title": false,
   "title_cell": "Table of Contents",
   "title_sidebar": "Contents",
   "toc_cell": false,
   "toc_position": {},
   "toc_section_display": true,
   "toc_window_display": false
  },
  "varInspector": {
   "cols": {
    "lenName": 16,
    "lenType": 16,
    "lenVar": 40
   },
   "kernels_config": {
    "python": {
     "delete_cmd_postfix": "",
     "delete_cmd_prefix": "del ",
     "library": "var_list.py",
     "varRefreshCmd": "print(var_dic_list())"
    },
    "r": {
     "delete_cmd_postfix": ") ",
     "delete_cmd_prefix": "rm(",
     "library": "var_list.r",
     "varRefreshCmd": "cat(var_dic_list()) "
    }
   },
   "types_to_exclude": [
    "module",
    "function",
    "builtin_function_or_method",
    "instance",
    "_Feature"
   ],
   "window_display": false
  }
 },
 "nbformat": 4,
 "nbformat_minor": 5
}
